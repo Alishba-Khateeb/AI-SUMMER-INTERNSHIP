{
 "cells": [
  {
   "cell_type": "markdown",
   "id": "37449349-d588-46b9-987f-b6988dbf65d6",
   "metadata": {},
   "source": [
    "# Pytorch Library"
   ]
  },
  {
   "cell_type": "code",
   "execution_count": 44,
   "id": "3ba71099-7891-45af-a7be-423b84125710",
   "metadata": {},
   "outputs": [],
   "source": [
    "import torch\n",
    "import math\n",
    "import numpy as np"
   ]
  },
  {
   "cell_type": "code",
   "execution_count": 2,
   "id": "f2901d01-9c11-4501-9f92-0670e6369e62",
   "metadata": {},
   "outputs": [
    {
     "name": "stdout",
     "output_type": "stream",
     "text": [
      "Pytorch Library\n"
     ]
    }
   ],
   "source": [
    "print(\"Pytorch Library\")"
   ]
  },
  {
   "cell_type": "markdown",
   "id": "aa7064ec-c1dd-430d-b0d4-eae02a1e0b54",
   "metadata": {},
   "source": [
    "***Matrix of Zeros***\n",
    "\n",
    " We create a matrix of 5 rows and 2 columns. Torch.zeros function will print zeros in the matrix."
   ]
  },
  {
   "cell_type": "code",
   "execution_count": 3,
   "id": "c9fbfcbe-f4e9-466b-9d3f-dc0529869056",
   "metadata": {},
   "outputs": [
    {
     "data": {
      "text/plain": [
       "tensor([[0., 0.],\n",
       "        [0., 0.],\n",
       "        [0., 0.],\n",
       "        [0., 0.],\n",
       "        [0., 0.]])"
      ]
     },
     "execution_count": 3,
     "metadata": {},
     "output_type": "execute_result"
    }
   ],
   "source": [
    "a= torch.zeros(5,2)\n",
    "a"
   ]
  },
  {
   "cell_type": "code",
   "execution_count": 4,
   "id": "6fb15fc6-d37b-40ea-a27a-b3d8ca940b90",
   "metadata": {},
   "outputs": [
    {
     "data": {
      "text/plain": [
       "torch.float32"
      ]
     },
     "execution_count": 4,
     "metadata": {},
     "output_type": "execute_result"
    }
   ],
   "source": [
    "a.dtype"
   ]
  },
  {
   "cell_type": "markdown",
   "id": "24322fdd-a5a4-46c7-96ed-8d6e61af1710",
   "metadata": {},
   "source": [
    "## Tensors"
   ]
  },
  {
   "cell_type": "markdown",
   "id": "5a186a7b-376e-475f-8923-3b34b28bacb1",
   "metadata": {},
   "source": [
    "***Pytorch Tensors***\n",
    "\n",
    "In Pytorch, tensor is a multi-dimensional array that can be used to represent and manipulate numerical data.r.\n",
    "sor.Tensors are a fundamental data structure in PyTorch and serve as the building blocks for creating and working with various machine learning models and algorithms. Tensors are similar to NumPy arrays but with additional capabilities optimized for deep learning and GPU acceleration(speeds up numerical computations, especially for deep learning tasks)."
   ]
  },
  {
   "cell_type": "code",
   "execution_count": 5,
   "id": "a80e96a4-201f-422c-a148-c132905d3469",
   "metadata": {},
   "outputs": [
    {
     "data": {
      "text/plain": [
       "tensor([[1, 1, 1],\n",
       "        [1, 1, 1],\n",
       "        [1, 1, 1],\n",
       "        [1, 1, 1],\n",
       "        [1, 1, 1]], dtype=torch.int32)"
      ]
     },
     "execution_count": 5,
     "metadata": {},
     "output_type": "execute_result"
    }
   ],
   "source": [
    "b = torch.ones((5,3) , dtype= torch.int32)\n",
    "b"
   ]
  },
  {
   "cell_type": "markdown",
   "id": "c23dcba9-1e33-4f6f-a62c-3a6a2f33a38a",
   "metadata": {},
   "source": [
    "***Random Tensor***\n",
    "\n",
    " A random tensor is a multi-dimensional array filled with random values. Random tensors are used for various purposes, such as initializing weights in neural networks, data augmentation, and creating random noise for simulations."
   ]
  },
  {
   "cell_type": "code",
   "execution_count": 6,
   "id": "f401fefd-9e8e-4b0b-a5f5-1913b1910fda",
   "metadata": {},
   "outputs": [
    {
     "data": {
      "text/plain": [
       "tensor([[0.0738, 0.7554],\n",
       "        [0.8400, 0.9526]])"
      ]
     },
     "execution_count": 6,
     "metadata": {},
     "output_type": "execute_result"
    }
   ],
   "source": [
    "r1= torch.rand(2,2)\n",
    "r1"
   ]
  },
  {
   "cell_type": "markdown",
   "id": "26147481-c870-4c4d-bd2d-5935fa9067c0",
   "metadata": {},
   "source": [
    "***Random Seed***\n",
    "\n",
    "A random seed is used to initialize random generator which is used to generate random values. If we give same seed to 2 different variables both will get same values."
   ]
  },
  {
   "cell_type": "code",
   "execution_count": 7,
   "id": "2993f9df-29e2-4d97-ae3f-34ea48e8a1d7",
   "metadata": {},
   "outputs": [
    {
     "name": "stdout",
     "output_type": "stream",
     "text": [
      "First Random Values\n"
     ]
    },
    {
     "data": {
      "text/plain": [
       "tensor([[0.7809, 0.6418],\n",
       "        [0.5344, 0.6687]])"
      ]
     },
     "execution_count": 7,
     "metadata": {},
     "output_type": "execute_result"
    }
   ],
   "source": [
    "torch.manual_seed(1792)\n",
    "r1= torch.rand(2,2)\n",
    "print(\"First Random Values\")\n",
    "r1"
   ]
  },
  {
   "cell_type": "code",
   "execution_count": 8,
   "id": "7db6d89a-48d0-4a68-addd-9d3f8f5a5d6d",
   "metadata": {},
   "outputs": [
    {
     "name": "stdout",
     "output_type": "stream",
     "text": [
      "Second Random Values\n"
     ]
    },
    {
     "data": {
      "text/plain": [
       "tensor([[0.7809, 0.6418],\n",
       "        [0.5344, 0.6687]])"
      ]
     },
     "execution_count": 8,
     "metadata": {},
     "output_type": "execute_result"
    }
   ],
   "source": [
    "torch.manual_seed(1792)\n",
    "r= torch.rand(2,2)\n",
    "print(\"Second Random Values\")\n",
    "r"
   ]
  },
  {
   "cell_type": "markdown",
   "id": "069073c0-cf07-45e2-b590-ba9ec425c1f6",
   "metadata": {},
   "source": [
    "***Dimensional Tensors***\n",
    "- 1-dimensional tensor called a vector.\n",
    "  \n",
    "- 2-dimensional tensor is often referred to as a matrix.\n",
    "\n",
    "- Anything with more than two dimensions is generally just called a tensor."
   ]
  },
  {
   "cell_type": "markdown",
   "id": "bb7a718e-8252-48e9-9f0f-55c33aeefecd",
   "metadata": {},
   "source": [
    "***1 Dimensional***"
   ]
  },
  {
   "cell_type": "code",
   "execution_count": 9,
   "id": "3ec9196e-68fd-4e1f-82e6-9ae80df00374",
   "metadata": {},
   "outputs": [
    {
     "data": {
      "text/plain": [
       "tensor([1, 2, 3, 4, 5])"
      ]
     },
     "execution_count": 9,
     "metadata": {},
     "output_type": "execute_result"
    }
   ],
   "source": [
    "d = torch.tensor([1, 2, 3, 4, 5])\n",
    "d"
   ]
  },
  {
   "cell_type": "markdown",
   "id": "0f81413b-ec5a-43a1-872d-4759da6c27ff",
   "metadata": {},
   "source": [
    "***2 Dimensional***\n",
    "- shape function tell us the size of the dimensional tensors.\n",
    "- ndim function tell us that the particular tensor belongs to which dimension."
   ]
  },
  {
   "cell_type": "code",
   "execution_count": 10,
   "id": "6b273e90-2272-4434-b378-621001ad5732",
   "metadata": {},
   "outputs": [
    {
     "data": {
      "text/plain": [
       "tensor([[1, 2, 3],\n",
       "        [4, 5, 6]])"
      ]
     },
     "execution_count": 10,
     "metadata": {},
     "output_type": "execute_result"
    }
   ],
   "source": [
    "d1 = torch.tensor([[1, 2, 3], [4, 5, 6]])\n",
    "d1"
   ]
  },
  {
   "cell_type": "code",
   "execution_count": 11,
   "id": "fe3d8dbd-b771-4ffc-90a9-90d9c68a6adc",
   "metadata": {},
   "outputs": [
    {
     "data": {
      "text/plain": [
       "torch.Size([2, 3])"
      ]
     },
     "execution_count": 11,
     "metadata": {},
     "output_type": "execute_result"
    }
   ],
   "source": [
    "d1.shape"
   ]
  },
  {
   "cell_type": "markdown",
   "id": "bfca9ac1-62b5-4e2b-845e-07ab6850e88f",
   "metadata": {},
   "source": [
    "***Creating tensors using arange function***\n"
   ]
  },
  {
   "cell_type": "code",
   "execution_count": 12,
   "id": "a9b85250-ec95-47a3-a429-42d6202ba6e5",
   "metadata": {},
   "outputs": [
    {
     "data": {
      "text/plain": [
       "tensor([0, 2, 4, 6, 8])"
      ]
     },
     "execution_count": 12,
     "metadata": {},
     "output_type": "execute_result"
    }
   ],
   "source": [
    "range= torch.arange(0, 10, step=2)\n",
    "range"
   ]
  },
  {
   "cell_type": "code",
   "execution_count": 13,
   "id": "88415374-85e5-474e-bafd-0925a9e71cde",
   "metadata": {},
   "outputs": [
    {
     "name": "stdout",
     "output_type": "stream",
     "text": [
      "torch.Size([5])\n"
     ]
    },
    {
     "data": {
      "text/plain": [
       "1"
      ]
     },
     "execution_count": 13,
     "metadata": {},
     "output_type": "execute_result"
    }
   ],
   "source": [
    "print(range.shape)\n",
    "range.ndim"
   ]
  },
  {
   "cell_type": "markdown",
   "id": "e238a487-b075-4d51-b7a2-d18be92b49f3",
   "metadata": {},
   "source": [
    "***Creation of 3D tensor***"
   ]
  },
  {
   "cell_type": "code",
   "execution_count": 14,
   "id": "97ebae85-fcc4-4c46-943f-7bbf1067e366",
   "metadata": {},
   "outputs": [
    {
     "name": "stdout",
     "output_type": "stream",
     "text": [
      "torch.Size([2, 2, 3])\n",
      "tensor([[[1., 1., 1.],\n",
      "         [1., 1., 1.]],\n",
      "\n",
      "        [[1., 1., 1.],\n",
      "         [1., 1., 1.]]])\n",
      "Dimensions is:\n",
      "3\n"
     ]
    }
   ],
   "source": [
    "x = torch.ones(2, 2, 3)\n",
    "print(x.shape)\n",
    "print(x)\n",
    "print(\"Dimensions is:\")\n",
    "print(x.ndim)"
   ]
  },
  {
   "cell_type": "code",
   "execution_count": 15,
   "id": "4cdf3802-5eb9-44b2-947f-ad1d269a3a92",
   "metadata": {},
   "outputs": [
    {
     "name": "stdout",
     "output_type": "stream",
     "text": [
      "tensor([[[2., 2., 2.],\n",
      "         [2., 2., 2.]],\n",
      "\n",
      "        [[2., 2., 2.],\n",
      "         [2., 2., 2.]]])\n"
     ]
    }
   ],
   "source": [
    "print(x*2)"
   ]
  },
  {
   "cell_type": "markdown",
   "id": "502f9169-5525-4bec-bd12-dc6ae73d2f51",
   "metadata": {},
   "source": [
    "***Various Mathematical Operations***"
   ]
  },
  {
   "cell_type": "code",
   "execution_count": 16,
   "id": "1d931579-ec22-47c5-b675-634be2e7cde6",
   "metadata": {},
   "outputs": [
    {
     "name": "stdout",
     "output_type": "stream",
     "text": [
      "tensor([[2., 2.],\n",
      "        [2., 2.]])\n",
      "tensor([[4., 4.],\n",
      "        [4., 4.]])\n",
      "tensor([[1.4142, 1.4142],\n",
      "        [1.4142, 1.4142]])\n",
      "tensor([[3., 3.],\n",
      "        [3., 3.]])\n"
     ]
    }
   ],
   "source": [
    "p = (torch.ones(2, 2) * 7 - 1) / 2\n",
    "t= (torch.ones(2,2)*2)\n",
    "f = t ** 2\n",
    "s = t ** 0.5\n",
    "print(t)\n",
    "print(f)\n",
    "print(s)\n",
    "print(p)"
   ]
  },
  {
   "cell_type": "markdown",
   "id": "eb700460-7347-4d1a-b181-076571e129dc",
   "metadata": {},
   "source": [
    "- 0: This represents an angle of 0 radians.\n",
    "math.pi / 4\n",
    "-  This represents an angle of π/4 radians, which is 45 degrees\r\n",
    "math.pi / \n",
    "- 2: This represents an angle of π/2 radians, which is 90 degree .\r\n",
    "3 * math.pi /\n",
    "-  4: This represents an angle of 3π/4 radians, which is 135 degre\n",
    "-  sines calculate sin of the angl\n",
    "-  asine calculates inverse of sin.es."
   ]
  },
  {
   "cell_type": "code",
   "execution_count": 17,
   "id": "6496c77b-96ab-4da5-8465-367a23299b4d",
   "metadata": {},
   "outputs": [
    {
     "name": "stdout",
     "output_type": "stream",
     "text": [
      "tensor([0.0000, 0.7854, 1.5708, 2.3562])\n"
     ]
    }
   ],
   "source": [
    "angles = torch.tensor([0, math.pi / 4, math.pi / 2, 3 * math.pi / 4])\n",
    "print(angles)"
   ]
  },
  {
   "cell_type": "code",
   "execution_count": 18,
   "id": "3b20ac18-34e3-4d26-b289-3c9559a632ba",
   "metadata": {},
   "outputs": [
    {
     "name": "stdout",
     "output_type": "stream",
     "text": [
      "tensor([0.0000, 0.7071, 1.0000, 0.7071])\n",
      "tensor([0.0000, 0.7854, 1.5708, 0.7854])\n"
     ]
    }
   ],
   "source": [
    "sines = torch.sin(angles)\n",
    "inverses = torch.asin(sines)\n",
    "print(sines)\n",
    "print(inverses)"
   ]
  },
  {
   "cell_type": "markdown",
   "id": "d7220567-7ba2-4baf-97f9-4c358b769603",
   "metadata": {},
   "source": [
    "***Bitwise_xor***\n",
    "\n",
    "Bitwise_xor operation returns 1 for different operands and 0 for same operands. It compares the value placed at same indexes in both tensors and perform bitwise operations."
   ]
  },
  {
   "cell_type": "code",
   "execution_count": 25,
   "id": "9acc6458-4e8f-4e14-95ca-dbda10499132",
   "metadata": {},
   "outputs": [
    {
     "data": {
      "text/plain": [
       "tensor([[1, 2, 3],\n",
       "        [4, 5, 6]])"
      ]
     },
     "execution_count": 25,
     "metadata": {},
     "output_type": "execute_result"
    }
   ],
   "source": [
    "d1"
   ]
  },
  {
   "cell_type": "markdown",
   "id": "523180dd-c822-4fcd-89fb-1104244b39e2",
   "metadata": {},
   "source": [
    "torch.bitwise_xor(d1,d1)"
   ]
  },
  {
   "cell_type": "code",
   "execution_count": 23,
   "id": "cd13c7ac-77fd-4af1-95bf-6555c06c413c",
   "metadata": {},
   "outputs": [
    {
     "data": {
      "text/plain": [
       "tensor([[1, 2, 7],\n",
       "        [4, 4, 6]])"
      ]
     },
     "execution_count": 23,
     "metadata": {},
     "output_type": "execute_result"
    }
   ],
   "source": [
    "d2 = torch.tensor([[1, 2, 7], [4, 4, 6]])\n",
    "d2"
   ]
  },
  {
   "cell_type": "code",
   "execution_count": 24,
   "id": "4d310bf8-39bb-43ec-b7ad-c97b01681406",
   "metadata": {},
   "outputs": [
    {
     "data": {
      "text/plain": [
       "tensor([[0, 0, 4],\n",
       "        [0, 1, 0]])"
      ]
     },
     "execution_count": 24,
     "metadata": {},
     "output_type": "execute_result"
    }
   ],
   "source": [
    "torch.bitwise_xor(d1,d2)"
   ]
  },
  {
   "cell_type": "code",
   "execution_count": 29,
   "id": "613d1a70-3490-4e13-b15c-d466f0ae0bec",
   "metadata": {},
   "outputs": [
    {
     "name": "stdout",
     "output_type": "stream",
     "text": [
      "tensor(6)\n"
     ]
    },
    {
     "data": {
      "text/plain": [
       "tensor(1)"
      ]
     },
     "execution_count": 29,
     "metadata": {},
     "output_type": "execute_result"
    }
   ],
   "source": [
    "print(d1.max())\n",
    "d1.min()"
   ]
  },
  {
   "cell_type": "markdown",
   "id": "6e7f3231-e6cd-4ac1-8945-a0f86814fd47",
   "metadata": {},
   "source": [
    "***Copying a Tensor***"
   ]
  },
  {
   "cell_type": "code",
   "execution_count": 32,
   "id": "ee33ca29-fee2-4966-bb62-cb4416acb2a9",
   "metadata": {},
   "outputs": [
    {
     "name": "stdout",
     "output_type": "stream",
     "text": [
      "tensor([[  1., 561.],\n",
      "        [  1.,   1.]])\n",
      "tensor([[  1., 561.],\n",
      "        [  1.,   1.]])\n"
     ]
    }
   ],
   "source": [
    "a = torch.ones(2, 2)\n",
    "b = a\n",
    "\n",
    "a[0][1] = 561  # we change a...\n",
    "print(a)\n",
    "print(b)       # ...and b is also altered"
   ]
  },
  {
   "cell_type": "markdown",
   "id": "65b5b96f-27ad-4403-9cb9-f36c58f356af",
   "metadata": {},
   "source": [
    "***Checking Availability of GPU***"
   ]
  },
  {
   "cell_type": "code",
   "execution_count": 33,
   "id": "03137da7-6d0a-4a08-abea-0698507435ac",
   "metadata": {},
   "outputs": [
    {
     "name": "stdout",
     "output_type": "stream",
     "text": [
      "Sorry, CPU only.\n"
     ]
    }
   ],
   "source": [
    "if torch.cuda.is_available():\n",
    "    print('We have a GPU!')\n",
    "else:\n",
    "    print('Sorry, CPU only.')"
   ]
  },
  {
   "cell_type": "markdown",
   "id": "e69cc135-6297-43bf-be9b-8ad761fda870",
   "metadata": {},
   "source": [
    "***unsqueeze***\n",
    "  is used to add additional dimension to the tensor. unsqueeze is of 1 dimension and it adds one dimension to the given matrix.\n",
    "\n",
    "***squeeze*** \n",
    "   is used to remove the dimension of the tensor."
   ]
  },
  {
   "cell_type": "code",
   "execution_count": 36,
   "id": "0d03b156-bf8b-41a4-a876-8ba2c291bb09",
   "metadata": {},
   "outputs": [
    {
     "name": "stdout",
     "output_type": "stream",
     "text": [
      "torch.Size([3, 1, 226, 226])\n"
     ]
    }
   ],
   "source": [
    "a = torch.rand(3, 226, 226)\n",
    "a= a.unsqueeze(1)\n",
    "print(a.shape)"
   ]
  },
  {
   "cell_type": "code",
   "execution_count": 40,
   "id": "d00e350c-4269-4271-b8c1-ccc2824fb092",
   "metadata": {},
   "outputs": [
    {
     "name": "stdout",
     "output_type": "stream",
     "text": [
      "torch.Size([3, 226, 226])\n"
     ]
    }
   ],
   "source": [
    "a = torch.rand(3, 226, 226)\n",
    "a= a.squeeze(1)\n",
    "print(a.shape)"
   ]
  },
  {
   "cell_type": "markdown",
   "id": "0ce7cb21-ae0c-4803-9910-042d3123edc1",
   "metadata": {},
   "source": [
    "### Comparison Between Numpy and Tensors"
   ]
  },
  {
   "cell_type": "markdown",
   "id": "0edd4aa3-1462-4eb1-b3af-b915c85280f1",
   "metadata": {},
   "source": [
    "***1. Creation***"
   ]
  },
  {
   "cell_type": "code",
   "execution_count": 46,
   "id": "444e31b5-4798-4a9a-a093-df030a7ff28b",
   "metadata": {},
   "outputs": [
    {
     "name": "stdout",
     "output_type": "stream",
     "text": [
      "NumPy Array: [1 2 3]\n",
      "PyTorch Tensor: tensor([1, 2, 3])\n"
     ]
    }
   ],
   "source": [
    "n = np.array([1, 2, 3])\n",
    "print(\"NumPy Array:\", n)\n",
    "t = torch.tensor([1, 2, 3])\n",
    "print(\"PyTorch Tensor:\", t)"
   ]
  },
  {
   "cell_type": "markdown",
   "id": "3df98104-7b15-4612-a138-30dedd186130",
   "metadata": {},
   "source": [
    "***2. Reshaping***"
   ]
  },
  {
   "cell_type": "code",
   "execution_count": 53,
   "id": "eaa0a7bf-2616-4bf3-9428-ff027f794161",
   "metadata": {},
   "outputs": [
    {
     "name": "stdout",
     "output_type": "stream",
     "text": [
      "NumPy Reshaped Array:\n",
      " [[1 2 3]\n",
      " [4 5 6]]\n",
      "PyTorch Reshaped Tensor:\n",
      " tensor([[1, 2, 3],\n",
      "        [4, 5, 6]])\n"
     ]
    }
   ],
   "source": [
    "n= np.array([1, 2, 3, 4, 5, 6])\n",
    "r = n.reshape(2, 3)\n",
    "print(\"NumPy Reshaped Array:\\n\", r)\n",
    "t = torch.tensor([1, 2, 3, 4, 5, 6])\n",
    "e = t.view(2, 3)\n",
    "print(\"PyTorch Reshaped Tensor:\\n\", e)"
   ]
  },
  {
   "cell_type": "markdown",
   "id": "4b4f70fc-2524-4ae6-8e38-f7b586847430",
   "metadata": {},
   "source": [
    "***3. GPU Availability***\n",
    "\n",
    "In Numpy there is no built-in GRU support while PyTorch has additional features optimized for deep learning, such as GPU support and automatic differentiation for neural network training.If PyTorch is running on a GPU and NumPy is not, there can be significant differences in terms of performance and capabilities."
   ]
  },
  {
   "cell_type": "markdown",
   "id": "c38d7a4e-a232-48eb-9855-0f0fd2b927d1",
   "metadata": {},
   "source": [
    "## Normalization"
   ]
  },
  {
   "cell_type": "code",
   "execution_count": null,
   "id": "285b8da8-1ca3-4825-ba23-f2b43eeb25df",
   "metadata": {},
   "outputs": [],
   "source": []
  }
 ],
 "metadata": {
  "kernelspec": {
   "display_name": "Python 3 (ipykernel)",
   "language": "python",
   "name": "python3"
  },
  "language_info": {
   "codemirror_mode": {
    "name": "ipython",
    "version": 3
   },
   "file_extension": ".py",
   "mimetype": "text/x-python",
   "name": "python",
   "nbconvert_exporter": "python",
   "pygments_lexer": "ipython3",
   "version": "3.10.5"
  }
 },
 "nbformat": 4,
 "nbformat_minor": 5
}
