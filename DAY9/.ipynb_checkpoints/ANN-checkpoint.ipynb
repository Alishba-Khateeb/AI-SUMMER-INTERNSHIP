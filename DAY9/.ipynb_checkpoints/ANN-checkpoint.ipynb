{
 "cells": [
  {
   "cell_type": "markdown",
   "id": "8894cd63-06d0-4e9f-a3b7-5d9b07130852",
   "metadata": {},
   "source": [
    "# Aritifical Neural Network:\n",
    "\n",
    "- Neural networks are designed to recognize patterns, make decisions, and perform tasks based on data, much like the human brain processes information. Wwe are creating an ANN in which we will predict whether a person has diabetes or not."
   ]
  },
  {
   "cell_type": "markdown",
   "id": "767157e2-6f0e-42a0-a19e-0f343d6e3849",
   "metadata": {},
   "source": [
    "- ***Importing libraries***\n",
    "- ***Reading a csv file named as diabetes***\n",
    "- ***Head shows first few rows of data***"
   ]
  },
  {
   "cell_type": "code",
   "execution_count": 1,
   "id": "fff07062-41b0-4c3e-b061-bfebd80ec2b0",
   "metadata": {},
   "outputs": [
    {
     "data": {
      "text/html": [
       "<div>\n",
       "<style scoped>\n",
       "    .dataframe tbody tr th:only-of-type {\n",
       "        vertical-align: middle;\n",
       "    }\n",
       "\n",
       "    .dataframe tbody tr th {\n",
       "        vertical-align: top;\n",
       "    }\n",
       "\n",
       "    .dataframe thead th {\n",
       "        text-align: right;\n",
       "    }\n",
       "</style>\n",
       "<table border=\"1\" class=\"dataframe\">\n",
       "  <thead>\n",
       "    <tr style=\"text-align: right;\">\n",
       "      <th></th>\n",
       "      <th>Pregnancies</th>\n",
       "      <th>Glucose</th>\n",
       "      <th>BloodPressure</th>\n",
       "      <th>SkinThickness</th>\n",
       "      <th>Insulin</th>\n",
       "      <th>BMI</th>\n",
       "      <th>DiabetesPedigreeFunction</th>\n",
       "      <th>Age</th>\n",
       "      <th>Outcome</th>\n",
       "    </tr>\n",
       "  </thead>\n",
       "  <tbody>\n",
       "    <tr>\n",
       "      <th>0</th>\n",
       "      <td>6</td>\n",
       "      <td>148</td>\n",
       "      <td>72</td>\n",
       "      <td>35</td>\n",
       "      <td>0</td>\n",
       "      <td>33.6</td>\n",
       "      <td>0.627</td>\n",
       "      <td>50</td>\n",
       "      <td>1</td>\n",
       "    </tr>\n",
       "    <tr>\n",
       "      <th>1</th>\n",
       "      <td>1</td>\n",
       "      <td>85</td>\n",
       "      <td>66</td>\n",
       "      <td>29</td>\n",
       "      <td>0</td>\n",
       "      <td>26.6</td>\n",
       "      <td>0.351</td>\n",
       "      <td>31</td>\n",
       "      <td>0</td>\n",
       "    </tr>\n",
       "    <tr>\n",
       "      <th>2</th>\n",
       "      <td>8</td>\n",
       "      <td>183</td>\n",
       "      <td>64</td>\n",
       "      <td>0</td>\n",
       "      <td>0</td>\n",
       "      <td>23.3</td>\n",
       "      <td>0.672</td>\n",
       "      <td>32</td>\n",
       "      <td>1</td>\n",
       "    </tr>\n",
       "    <tr>\n",
       "      <th>3</th>\n",
       "      <td>1</td>\n",
       "      <td>89</td>\n",
       "      <td>66</td>\n",
       "      <td>23</td>\n",
       "      <td>94</td>\n",
       "      <td>28.1</td>\n",
       "      <td>0.167</td>\n",
       "      <td>21</td>\n",
       "      <td>0</td>\n",
       "    </tr>\n",
       "    <tr>\n",
       "      <th>4</th>\n",
       "      <td>0</td>\n",
       "      <td>137</td>\n",
       "      <td>40</td>\n",
       "      <td>35</td>\n",
       "      <td>168</td>\n",
       "      <td>43.1</td>\n",
       "      <td>2.288</td>\n",
       "      <td>33</td>\n",
       "      <td>1</td>\n",
       "    </tr>\n",
       "  </tbody>\n",
       "</table>\n",
       "</div>"
      ],
      "text/plain": [
       "   Pregnancies  Glucose  BloodPressure  SkinThickness  Insulin   BMI  \\\n",
       "0            6      148             72             35        0  33.6   \n",
       "1            1       85             66             29        0  26.6   \n",
       "2            8      183             64              0        0  23.3   \n",
       "3            1       89             66             23       94  28.1   \n",
       "4            0      137             40             35      168  43.1   \n",
       "\n",
       "   DiabetesPedigreeFunction  Age  Outcome  \n",
       "0                     0.627   50        1  \n",
       "1                     0.351   31        0  \n",
       "2                     0.672   32        1  \n",
       "3                     0.167   21        0  \n",
       "4                     2.288   33        1  "
      ]
     },
     "execution_count": 1,
     "metadata": {},
     "output_type": "execute_result"
    }
   ],
   "source": [
    "import pandas as pd\n",
    "import numpy as np\n",
    "import seaborn as sns\n",
    "df=pd.read_csv('diabetes.csv')\n",
    "df.head()"
   ]
  },
  {
   "cell_type": "code",
   "execution_count": 2,
   "id": "721a2fb7-7dea-4c59-86be-353e192da4b9",
   "metadata": {},
   "outputs": [
    {
     "data": {
      "text/plain": [
       "Pregnancies                 0\n",
       "Glucose                     0\n",
       "BloodPressure               0\n",
       "SkinThickness               0\n",
       "Insulin                     0\n",
       "BMI                         0\n",
       "DiabetesPedigreeFunction    0\n",
       "Age                         0\n",
       "Outcome                     0\n",
       "dtype: int64"
      ]
     },
     "execution_count": 2,
     "metadata": {},
     "output_type": "execute_result"
    }
   ],
   "source": [
    "df.isnull().sum()\n",
    "# we are checking whether a dataset named df has null values or not. This functioon is used to count number of null values in each column."
   ]
  },
  {
   "cell_type": "code",
   "execution_count": 3,
   "id": "68be01a4-1ae2-4dd2-8046-29602ed69878",
   "metadata": {},
   "outputs": [
    {
     "data": {
      "text/html": [
       "<div>\n",
       "<style scoped>\n",
       "    .dataframe tbody tr th:only-of-type {\n",
       "        vertical-align: middle;\n",
       "    }\n",
       "\n",
       "    .dataframe tbody tr th {\n",
       "        vertical-align: top;\n",
       "    }\n",
       "\n",
       "    .dataframe thead th {\n",
       "        text-align: right;\n",
       "    }\n",
       "</style>\n",
       "<table border=\"1\" class=\"dataframe\">\n",
       "  <thead>\n",
       "    <tr style=\"text-align: right;\">\n",
       "      <th></th>\n",
       "      <th>Pregnancies</th>\n",
       "      <th>Glucose</th>\n",
       "      <th>BloodPressure</th>\n",
       "      <th>SkinThickness</th>\n",
       "      <th>Insulin</th>\n",
       "      <th>BMI</th>\n",
       "      <th>DiabetesPedigreeFunction</th>\n",
       "      <th>Age</th>\n",
       "      <th>Outcome</th>\n",
       "    </tr>\n",
       "  </thead>\n",
       "  <tbody>\n",
       "    <tr>\n",
       "      <th>0</th>\n",
       "      <td>6</td>\n",
       "      <td>148</td>\n",
       "      <td>72</td>\n",
       "      <td>35</td>\n",
       "      <td>0</td>\n",
       "      <td>33.6</td>\n",
       "      <td>0.627</td>\n",
       "      <td>50</td>\n",
       "      <td>1</td>\n",
       "    </tr>\n",
       "    <tr>\n",
       "      <th>1</th>\n",
       "      <td>1</td>\n",
       "      <td>85</td>\n",
       "      <td>66</td>\n",
       "      <td>29</td>\n",
       "      <td>0</td>\n",
       "      <td>26.6</td>\n",
       "      <td>0.351</td>\n",
       "      <td>31</td>\n",
       "      <td>0</td>\n",
       "    </tr>\n",
       "    <tr>\n",
       "      <th>2</th>\n",
       "      <td>8</td>\n",
       "      <td>183</td>\n",
       "      <td>64</td>\n",
       "      <td>0</td>\n",
       "      <td>0</td>\n",
       "      <td>23.3</td>\n",
       "      <td>0.672</td>\n",
       "      <td>32</td>\n",
       "      <td>1</td>\n",
       "    </tr>\n",
       "    <tr>\n",
       "      <th>3</th>\n",
       "      <td>1</td>\n",
       "      <td>89</td>\n",
       "      <td>66</td>\n",
       "      <td>23</td>\n",
       "      <td>94</td>\n",
       "      <td>28.1</td>\n",
       "      <td>0.167</td>\n",
       "      <td>21</td>\n",
       "      <td>0</td>\n",
       "    </tr>\n",
       "    <tr>\n",
       "      <th>4</th>\n",
       "      <td>0</td>\n",
       "      <td>137</td>\n",
       "      <td>40</td>\n",
       "      <td>35</td>\n",
       "      <td>168</td>\n",
       "      <td>43.1</td>\n",
       "      <td>2.288</td>\n",
       "      <td>33</td>\n",
       "      <td>1</td>\n",
       "    </tr>\n",
       "  </tbody>\n",
       "</table>\n",
       "</div>"
      ],
      "text/plain": [
       "   Pregnancies  Glucose  BloodPressure  SkinThickness  Insulin   BMI  \\\n",
       "0            6      148             72             35        0  33.6   \n",
       "1            1       85             66             29        0  26.6   \n",
       "2            8      183             64              0        0  23.3   \n",
       "3            1       89             66             23       94  28.1   \n",
       "4            0      137             40             35      168  43.1   \n",
       "\n",
       "   DiabetesPedigreeFunction  Age  Outcome  \n",
       "0                     0.627   50        1  \n",
       "1                     0.351   31        0  \n",
       "2                     0.672   32        1  \n",
       "3                     0.167   21        0  \n",
       "4                     2.288   33        1  "
      ]
     },
     "execution_count": 3,
     "metadata": {},
     "output_type": "execute_result"
    }
   ],
   "source": [
    "df=pd.read_csv('diabetes.csv') # reading a csv file.\n",
    "df.head()"
   ]
  },
  {
   "cell_type": "markdown",
   "id": "672e91bb-a772-4432-a8a3-b05b6085a4c1",
   "metadata": {},
   "source": [
    "- Here we are creating independent feature in which we drop the outcome(outout) column.\n",
    "- axis=1 means we are dropping a column and axis=0 means we are dropping a row."
   ]
  },
  {
   "cell_type": "code",
   "execution_count": 4,
   "id": "97a0666c-1f7c-4de7-8eba-1a82389ebcc2",
   "metadata": {},
   "outputs": [],
   "source": [
    "X=df.drop('Outcome',axis=1).values### independent features\n",
    "y=df['Outcome'].values###dependent features"
   ]
  },
  {
   "cell_type": "markdown",
   "id": "a41f0334-d9bc-46bc-9848-d8ee1c0e9f4b",
   "metadata": {},
   "source": [
    "## Scikit Library:\n",
    "\n",
    "- ***train_test_split function*** from Scikit-Learn to split your data into training and testing sets for machine learning purposes.is used to split your dataset into two subsets: a training set and a testing set.\n",
    "- ***test_size=0.2*** means that 20% of the data will be used for testing, and the remaining 80% will be used for training.\n",
    "- ***random_state=0*** this parameter sets a seed for the random number generator. Setting it to a specific value (e.g., random_state=0)  meaning you will get the same split if you run the code with the same random_state value again.\n",
    "- X_train: The independent features for the training set.\n",
    "- \n",
    "X_test: The independent features for the testing set\n",
    "- \r\n",
    "y_train: The dependent feature (target) for the training se\n",
    "- .\r\n",
    "y_test: The dependent feature (target) for the testing s\r\n",
    "\r\n",
    "\r\n",
    "\r\n",
    "\r\n"
   ]
  },
  {
   "cell_type": "code",
   "execution_count": 5,
   "id": "2f794d1c-1903-4275-b89d-21d8237d1526",
   "metadata": {},
   "outputs": [],
   "source": [
    "from sklearn.model_selection import train_test_split\n",
    "X_train,X_test,y_train,y_test=train_test_split(X,y,test_size=0.2,random_state=0)"
   ]
  },
  {
   "cell_type": "code",
   "execution_count": 6,
   "id": "3fcdd655-dee8-4aa1-8e62-37b571b00f40",
   "metadata": {},
   "outputs": [],
   "source": [
    "#### Libraries From Pytorch\n",
    "import torch\n",
    "import torch.nn as nn # It provides the building blocks for creating neural network models. It helps to create classes, dataloaders, optimizers etc\n",
    "import torch.nn.functional as F # It provides a set of functions for defining activation functions and other operations."
   ]
  },
  {
   "cell_type": "markdown",
   "id": "714111a3-87f8-4896-9bec-9a00ee6f8b96",
   "metadata": {},
   "source": [
    "- ***Creating Tensors***"
   ]
  },
  {
   "cell_type": "code",
   "execution_count": 7,
   "id": "b0262e09-591a-4c12-9e49-5b3383143a06",
   "metadata": {},
   "outputs": [],
   "source": [
    "X_train=torch.FloatTensor(X_train) # Creating float tensors because it is necessary for independent features to be in floating points.\n",
    "X_test=torch.FloatTensor(X_test)\n",
    "y_train=torch.LongTensor(y_train) # Creating simple tensors.\n",
    "y_test=torch.LongTensor(y_test)"
   ]
  },
  {
   "cell_type": "code",
   "execution_count": 8,
   "id": "ac4fe90e-8dce-4b48-ad24-d77a4009b300",
   "metadata": {},
   "outputs": [
    {
     "data": {
      "text/plain": [
       "(768, 9)"
      ]
     },
     "execution_count": 8,
     "metadata": {},
     "output_type": "execute_result"
    }
   ],
   "source": [
    "df.shape # shows number of rows and columns."
   ]
  },
  {
   "cell_type": "markdown",
   "id": "932b12c1-bd38-4dd6-a10c-e82dd3b47b88",
   "metadata": {},
   "source": [
    "## Creating Model with Pytorch:\n",
    "- ***__init__ method***, you define the architecture of your neural network:\n",
    "- ***input_features:*** The number of input features. In this case, it's set to 8.\n",
    "- ***hidden1 and hidden2:*** The number of neurons (units) in the first and second hidden layers, respectively. Both are set to 20 neurons.\n",
    "- ***out_features:*** The number of output features. Here, it's set to 2.\n",
    "- ***F.relu:*** is an activation function in F.\n",
    "- ***nn.Linear:*** It means that the layers are fully cinnected to eachother.\n",
    "- ***x = F.relu(self.f_connected2(x)):*** Similar to the first line, this line takes the output from the first hidden layer, applies ReLU activation, and passes it through the second fully connected layer self.f_connected2. This is how information flows through the network, from one layer to the next."
   ]
  },
  {
   "cell_type": "code",
   "execution_count": 9,
   "id": "16903172-e420-4e19-b503-fbbdbf76d517",
   "metadata": {},
   "outputs": [],
   "source": [
    "\n",
    "class ANN_Model(nn.Module):\n",
    "    def __init__(self,input_features=8,hidden1=20,hidden2=20,out_features=2):\n",
    "        super().__init__()\n",
    "        self.f_connected1=nn.Linear(input_features,hidden1) # self.f_connected1 fully connects the input layer to hidden layer1.\n",
    "        self.f_connected2=nn.Linear(hidden1,hidden2)\n",
    "        self.out=nn.Linear(hidden2,out_features)\n",
    "    def forward(self,x):\n",
    "        x=F.relu(self.f_connected1(x))\n",
    "        x=F.relu(self.f_connected2(x))\n",
    "        x=self.out(x)\n",
    "        return x"
   ]
  },
  {
   "cell_type": "code",
   "execution_count": 10,
   "id": "80c31226-626a-4c3d-b5c9-932f75024433",
   "metadata": {},
   "outputs": [],
   "source": [
    "####instantiate my ANN_model\n",
    "torch.manual_seed(20)\n",
    "#  if you run your code multiple times with the same seed (in this case, 20), you'll get the same random results. \n",
    "#This is useful for debugging and getting consistent results in your experiments.\n",
    "model=ANN_Model()\n",
    "#  This instance represents your neural network model, which is ready for training and making predictions."
   ]
  },
  {
   "cell_type": "code",
   "execution_count": 11,
   "id": "b02ccbdc-f63b-40c6-938c-c181729a6575",
   "metadata": {},
   "outputs": [
    {
     "data": {
      "text/plain": [
       "<bound method Module.parameters of ANN_Model(\n",
       "  (f_connected1): Linear(in_features=8, out_features=20, bias=True)\n",
       "  (f_connected2): Linear(in_features=20, out_features=20, bias=True)\n",
       "  (out): Linear(in_features=20, out_features=2, bias=True)\n",
       ")>"
      ]
     },
     "execution_count": 11,
     "metadata": {},
     "output_type": "execute_result"
    }
   ],
   "source": [
    "model.parameters"
   ]
  },
  {
   "cell_type": "markdown",
   "id": "5ba6832a-773d-456a-9ad9-6250808513a9",
   "metadata": {},
   "source": [
    "## Backward Propogation-- Define the loss_function,define the optimizer\n",
    "\n",
    "- ***Cross-Entropy Loss function***, which is commonly used for classification problems. Cross-Entropy Loss is used when you have multiple classes (more than two) and aims to measure the dissimilarity between the predicted class probabilities and the true class labels. It's often used in multiclass classification tasks.\n",
    "- ***The optimizer*** is responsible for updating the model's parameters during training to minimize the loss function.\n",
    "- ***lr=0.01*** This sets the learning rate, which determines the step size for the optimizer when it updates the model's parameters."
   ]
  },
  {
   "cell_type": "code",
   "execution_count": 12,
   "id": "7844e821-71ca-47cd-a8c6-04a4fe99142a",
   "metadata": {},
   "outputs": [],
   "source": [
    "loss_function=nn.CrossEntropyLoss() #  Cross-Entropy Loss function, which is commonly used for classification problems. \n",
    "optimizer=torch.optim.Adam(model.parameters(),lr=0.01)"
   ]
  },
  {
   "cell_type": "markdown",
   "id": "d9f357c9-6284-40d5-a958-12c13a0379d5",
   "metadata": {},
   "source": [
    "- ***epochs = 500:*** You've defined the number of training epochs.\n",
    "- *** y_pred = model.forward(X_train):***  You make predictions (y_pred) using the current state of your model by passing the training data X_train through the model's forward method. This is the forward pass.\n",
    "- ***optimizer.zero_grad():***The gradients of the model parameters are reset to zero. This is necessary before computing new gradients in the backward pass to avoid accumulating gradients from previous iterations."
   ]
  },
  {
   "cell_type": "code",
   "execution_count": 13,
   "id": "a2f9ec02-22bd-4448-b99b-650ec59125bb",
   "metadata": {},
   "outputs": [
    {
     "name": "stdout",
     "output_type": "stream",
     "text": [
      "Epoch number: 1 and the loss : 3.4572105407714844\n",
      "Epoch number: 11 and the loss : 0.8019207119941711\n",
      "Epoch number: 21 and the loss : 0.609032154083252\n",
      "Epoch number: 31 and the loss : 0.5917771458625793\n",
      "Epoch number: 41 and the loss : 0.5679708123207092\n",
      "Epoch number: 51 and the loss : 0.5529041886329651\n",
      "Epoch number: 61 and the loss : 0.5410094857215881\n",
      "Epoch number: 71 and the loss : 0.5310389995574951\n",
      "Epoch number: 81 and the loss : 0.5220361351966858\n",
      "Epoch number: 91 and the loss : 0.5135971903800964\n",
      "Epoch number: 101 and the loss : 0.5061254501342773\n",
      "Epoch number: 111 and the loss : 0.49834102392196655\n",
      "Epoch number: 121 and the loss : 0.49605512619018555\n",
      "Epoch number: 131 and the loss : 0.48286372423171997\n",
      "Epoch number: 141 and the loss : 0.4756035804748535\n",
      "Epoch number: 151 and the loss : 0.483346551656723\n",
      "Epoch number: 161 and the loss : 0.48827385902404785\n",
      "Epoch number: 171 and the loss : 0.46933698654174805\n",
      "Epoch number: 181 and the loss : 0.4662608802318573\n",
      "Epoch number: 191 and the loss : 0.45597580075263977\n",
      "Epoch number: 201 and the loss : 0.4466378688812256\n",
      "Epoch number: 211 and the loss : 0.43963825702667236\n",
      "Epoch number: 221 and the loss : 0.43641966581344604\n",
      "Epoch number: 231 and the loss : 0.44081151485443115\n",
      "Epoch number: 241 and the loss : 0.4275386333465576\n",
      "Epoch number: 251 and the loss : 0.4217402935028076\n",
      "Epoch number: 261 and the loss : 0.43123912811279297\n",
      "Epoch number: 271 and the loss : 0.42490264773368835\n",
      "Epoch number: 281 and the loss : 0.41047024726867676\n",
      "Epoch number: 291 and the loss : 0.429912269115448\n",
      "Epoch number: 301 and the loss : 0.40727412700653076\n",
      "Epoch number: 311 and the loss : 0.41343626379966736\n",
      "Epoch number: 321 and the loss : 0.4021834433078766\n",
      "Epoch number: 331 and the loss : 0.3914094567298889\n",
      "Epoch number: 341 and the loss : 0.49329671263694763\n",
      "Epoch number: 351 and the loss : 0.39892005920410156\n",
      "Epoch number: 361 and the loss : 0.4036122262477875\n",
      "Epoch number: 371 and the loss : 0.38886216282844543\n",
      "Epoch number: 381 and the loss : 0.384917289018631\n",
      "Epoch number: 391 and the loss : 0.37841522693634033\n",
      "Epoch number: 401 and the loss : 0.375024676322937\n",
      "Epoch number: 411 and the loss : 0.3718286156654358\n",
      "Epoch number: 421 and the loss : 0.3691188097000122\n",
      "Epoch number: 431 and the loss : 0.4410240948200226\n",
      "Epoch number: 441 and the loss : 0.4240630567073822\n",
      "Epoch number: 451 and the loss : 0.3820432424545288\n",
      "Epoch number: 461 and the loss : 0.36671456694602966\n",
      "Epoch number: 471 and the loss : 0.3596440553665161\n",
      "Epoch number: 481 and the loss : 0.355563223361969\n",
      "Epoch number: 491 and the loss : 0.35206255316734314\n"
     ]
    }
   ],
   "source": [
    "epochs=500\n",
    "final_losses=[] \n",
    "# final_losses is a Python list that is initialized as an empty list. This list is intended to store the loss values as training progresses.\n",
    "for i in range(epochs):\n",
    "    i=i+1 # iteration of an epoch.\n",
    "    y_pred=model.forward(X_train)\n",
    "    loss=loss_function(y_pred,y_train) #This calculates the difference between actual and predicted value.\n",
    "    final_losses.append(loss) # It's used to add (append) an element to the end of the list.\n",
    "    if i%10==1: # This ensures that the code inside the if block is executed only every 10 epochs (at the beginning of each new set of 10 epochs).\n",
    "        print(\"Epoch number: {} and the loss : {}\".format(i,loss.item()))\n",
    "    optimizer.zero_grad()\n",
    "    loss.backward() #  This step calculates how much each parameter should be adjusted to minimize the loss.\n",
    "    optimizer.step()"
   ]
  },
  {
   "cell_type": "code",
   "execution_count": 14,
   "id": "5d0f9538-9408-4dd2-8b25-b37ee656b0fe",
   "metadata": {},
   "outputs": [],
   "source": [
    "### plot the loss function\n",
    "import matplotlib.pyplot as plt\n",
    "%matplotlib inline"
   ]
  },
  {
   "cell_type": "markdown",
   "id": "4fabaef2-b856-4a05-a40b-15ccc22e1427",
   "metadata": {},
   "source": [
    "- This is used to create a line plot (graph) that shows how the loss (or error) changes over the course of training.\n",
    "- A descending curve indicates that the loss is decreasing, which is a positive sign. It means that your model is learning from the data and becoming better at its task."
   ]
  },
  {
   "cell_type": "code",
   "execution_count": 15,
   "id": "2e0d1cba-f934-401a-a99c-335a3c1b7637",
   "metadata": {},
   "outputs": [
    {
     "data": {
      "image/png": "[encoded data removed]",
      "text/plain": [
       "<Figure size 640x480 with 1 Axes>"
      ]
     },
     "metadata": {},
     "output_type": "display_data"
    }
   ],
   "source": [
    "with torch.no_grad():\n",
    " plt.plot(range(epochs),final_losses)\n",
    " plt.ylabel('Loss')\n",
    " plt.xlabel('Epoch')"
   ]
  },
  {
   "cell_type": "code",
   "execution_count": 16,
   "id": "f4e5d862-563b-4cda-94e0-056da1419027",
   "metadata": {},
   "outputs": [
    {
     "name": "stdout",
     "output_type": "stream",
     "text": [
      "1\n",
      "0\n",
      "0\n",
      "1\n",
      "0\n",
      "0\n",
      "1\n",
      "1\n",
      "1\n",
      "0\n",
      "1\n",
      "1\n",
      "0\n",
      "1\n",
      "0\n",
      "0\n",
      "1\n",
      "0\n",
      "0\n",
      "0\n",
      "1\n",
      "0\n",
      "0\n",
      "0\n",
      "0\n",
      "1\n",
      "0\n",
      "1\n",
      "0\n",
      "0\n",
      "0\n",
      "0\n",
      "0\n",
      "1\n",
      "0\n",
      "1\n",
      "1\n",
      "0\n",
      "0\n",
      "1\n",
      "0\n",
      "0\n",
      "0\n",
      "1\n",
      "1\n",
      "0\n",
      "0\n",
      "0\n",
      "0\n",
      "0\n",
      "0\n",
      "0\n",
      "1\n",
      "0\n",
      "0\n",
      "0\n",
      "0\n",
      "0\n",
      "0\n",
      "0\n",
      "1\n",
      "0\n",
      "0\n",
      "1\n",
      "1\n",
      "1\n",
      "1\n",
      "0\n",
      "0\n",
      "0\n",
      "0\n",
      "0\n",
      "0\n",
      "1\n",
      "1\n",
      "0\n",
      "0\n",
      "1\n",
      "0\n",
      "0\n",
      "1\n",
      "1\n",
      "0\n",
      "0\n",
      "0\n",
      "0\n",
      "0\n",
      "0\n",
      "1\n",
      "0\n",
      "0\n",
      "0\n",
      "0\n",
      "0\n",
      "1\n",
      "0\n",
      "0\n",
      "0\n",
      "0\n",
      "1\n",
      "0\n",
      "0\n",
      "0\n",
      "0\n",
      "1\n",
      "1\n",
      "0\n",
      "0\n",
      "0\n",
      "1\n",
      "0\n",
      "1\n",
      "1\n",
      "0\n",
      "0\n",
      "1\n",
      "0\n",
      "1\n",
      "0\n",
      "1\n",
      "0\n",
      "0\n",
      "0\n",
      "0\n",
      "0\n",
      "0\n",
      "0\n",
      "0\n",
      "0\n",
      "0\n",
      "1\n",
      "0\n",
      "0\n",
      "0\n",
      "0\n",
      "1\n",
      "1\n",
      "0\n",
      "1\n",
      "0\n",
      "0\n",
      "1\n",
      "0\n",
      "0\n",
      "0\n",
      "0\n",
      "0\n",
      "0\n",
      "0\n",
      "1\n",
      "0\n",
      "0\n",
      "0\n",
      "0\n"
     ]
    }
   ],
   "source": [
    "#### Prediction In X_test data\n",
    "predictions=[] # Initializes an empty list called predictions to store the predicted class labels or indices.\n",
    "with torch.no_grad(): # Disabling gradient computation reduces memory usage and speeds up inference.\n",
    "    for i,data in enumerate(X_test): # enumerate is used to keep track of the index i and the data data for each data point in X_test.\n",
    "        y_pred=model(data) # y_pred contains the model's output, which is typically a set of class scores or probabilities.\n",
    "        predictions.append(y_pred.argmax().item())\n",
    "        print(y_pred.argmax().item()) # This can be useful for debugging or examining the model's predictions.\n",
    "# After running this code, the predictions list will contain the predicted class indices for all the data points in X_test.\n",
    "# You can then compare these predictions with the true labels (if available) to evaluate the model's performance."
   ]
  },
  {
   "cell_type": "code",
   "execution_count": 17,
   "id": "cef16cb0-b63e-482a-811d-c68b008078b6",
   "metadata": {},
   "outputs": [
    {
     "data": {
      "text/plain": [
       "array([[91, 16],\n",
       "       [17, 30]], dtype=int64)"
      ]
     },
     "execution_count": 17,
     "metadata": {},
     "output_type": "execute_result"
    }
   ],
   "source": [
    "from sklearn.metrics import confusion_matrix\n",
    "cm=confusion_matrix(y_test,predictions)\n",
    "cm"
   ]
  },
  {
   "cell_type": "code",
   "execution_count": 18,
   "id": "9486161c-596b-4254-8f83-81ded46c91bc",
   "metadata": {},
   "outputs": [
    {
     "data": {
      "text/plain": [
       "Text(95.72222222222221, 0.5, 'Predicted Values')"
      ]
     },
     "execution_count": 18,
     "metadata": {},
     "output_type": "execute_result"
    },
    {
     "data": {
      "image/png": "[encoded data removed]",
      "text/plain": [
       "<Figure size 1000x600 with 2 Axes>"
      ]
     },
     "metadata": {},
     "output_type": "display_data"
    }
   ],
   "source": [
    "plt.figure(figsize=(10,6))\n",
    "sns.heatmap(cm,annot=True)\n",
    "plt.xlabel('Actual Values')\n",
    "plt.ylabel('Predicted Values')"
   ]
  },
  {
   "cell_type": "code",
   "execution_count": 19,
   "id": "5304769b-2f27-4160-8d18-a421a4a2421f",
   "metadata": {},
   "outputs": [
    {
     "data": {
      "text/plain": [
       "0.7857142857142857"
      ]
     },
     "execution_count": 19,
     "metadata": {},
     "output_type": "execute_result"
    }
   ],
   "source": [
    "from sklearn.metrics import accuracy_score\n",
    "score=accuracy_score(y_test,predictions)\n",
    "score\n",
    "# A confusion matrix is a valuable tool in machine learning for evaluating the performance of classification models. "
   ]
  },
  {
   "cell_type": "code",
   "execution_count": 20,
   "id": "8f46786e-72bc-44e3-a28c-e1c5f28b94e3",
   "metadata": {},
   "outputs": [],
   "source": [
    "#### Save the model\n",
    "torch.save(model,'diabetes.pt')"
   ]
  },
  {
   "cell_type": "code",
   "execution_count": 21,
   "id": "89b0f3b1-e171-49be-9495-abebe8114330",
   "metadata": {},
   "outputs": [],
   "source": [
    "#### Save And Load the model\n",
    "model=torch.load('diabetes.pt')"
   ]
  },
  {
   "cell_type": "code",
   "execution_count": 22,
   "id": "e5d4094e-61c8-401d-8052-281f844578ab",
   "metadata": {},
   "outputs": [
    {
     "data": {
      "text/plain": [
       "ANN_Model(\n",
       "  (f_connected1): Linear(in_features=8, out_features=20, bias=True)\n",
       "  (f_connected2): Linear(in_features=20, out_features=20, bias=True)\n",
       "  (out): Linear(in_features=20, out_features=2, bias=True)\n",
       ")"
      ]
     },
     "execution_count": 22,
     "metadata": {},
     "output_type": "execute_result"
    }
   ],
   "source": [
    "model.eval()"
   ]
  },
  {
   "cell_type": "code",
   "execution_count": 23,
   "id": "212df1c3-4a75-40d7-9609-a944c8f7dc3c",
   "metadata": {},
   "outputs": [
    {
     "data": {
      "text/plain": [
       "[6.0, 148.0, 72.0, 35.0, 0.0, 33.6, 0.627, 50.0]"
      ]
     },
     "execution_count": 23,
     "metadata": {},
     "output_type": "execute_result"
    }
   ],
   "source": [
    "### Predcition of new data point\n",
    "list(df.iloc[0,:-1])"
   ]
  },
  {
   "cell_type": "code",
   "execution_count": 24,
   "id": "470af462-e5d5-40bd-af84-08a465050d98",
   "metadata": {},
   "outputs": [],
   "source": [
    "#### New Data\n",
    "lst1=[6.0, 130.0, 72.0, 40.0, 0.0, 25.6, 0.627, 45.0]"
   ]
  },
  {
   "cell_type": "code",
   "execution_count": 25,
   "id": "212934a1-a39f-441a-83c2-4eb0713f2b0a",
   "metadata": {},
   "outputs": [],
   "source": [
    "new_data=torch.tensor(lst1)"
   ]
  },
  {
   "cell_type": "code",
   "execution_count": 26,
   "id": "05c4fb79-0646-4514-9c69-5da6d5b8c0f9",
   "metadata": {},
   "outputs": [
    {
     "name": "stdout",
     "output_type": "stream",
     "text": [
      "tensor([1.4653, 1.0610])\n",
      "0\n"
     ]
    }
   ],
   "source": [
    "#### Predict new data using Pytorch\n",
    "with torch.no_grad():\n",
    "    print(model(new_data))\n",
    "    print(model(new_data).argmax().item())"
   ]
  },
  {
   "cell_type": "code",
   "execution_count": null,
   "id": "deaba3e1-21d6-42a2-9fa2-7ac6a097f89d",
   "metadata": {},
   "outputs": [],
   "source": []
  }
 ],
 "metadata": {
  "kernelspec": {
   "display_name": "Python 3 (ipykernel)",
   "language": "python",
   "name": "python3"
  },
  "language_info": {
   "codemirror_mode": {
    "name": "ipython",
    "version": 3
   },
   "file_extension": ".py",
   "mimetype": "text/x-python",
   "name": "python",
   "nbconvert_exporter": "python",
   "pygments_lexer": "ipython3",
   "version": "3.10.5"
  }
 },
 "nbformat": 4,
 "nbformat_minor": 5
}
